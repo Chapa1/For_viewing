{
 "cells": [
  {
   "cell_type": "markdown",
   "metadata": {},
   "source": [
    "# Часть 1 \n",
    "\n",
    "# Функция Вигнера W для основного состояния осциллятора \n",
    "# слева: непрерывная \n",
    "# cправа: дискретная\n",
    "\n",
    "# сетка для $x\\in [-3,3]$ c 40 точками \n",
    "# W-матрица $40\\times40$\n",
    "# cумма отрицат. элементов матрицы (negativity) =11.15"
   ]
  },
  {
   "cell_type": "code",
   "execution_count": 5,
   "metadata": {},
   "outputs": [
    {
     "data": {
      "text/html": [
       "<table><tr><td><img src='Wign1.png'></td><td><img src='Wig1.png'></td></tr></table>"
      ],
      "text/plain": [
       "<IPython.core.display.HTML object>"
      ]
     },
     "metadata": {},
     "output_type": "display_data"
    }
   ],
   "source": [
    "%matplotlib inline\n",
    "from IPython.display import HTML, display\n",
    "\n",
    "display(HTML(\"<table><tr><td><img src='Wign1.png'></td><td><img src='Wig1.png'></td></tr></table>\"))"
   ]
  },
  {
   "cell_type": "markdown",
   "metadata": {},
   "source": [
    "# W для 2-го возбужденного состояния осциллятора \n",
    "# cумма отрицат. элементов матрицы =20.47"
   ]
  },
  {
   "cell_type": "code",
   "execution_count": 13,
   "metadata": {},
   "outputs": [
    {
     "data": {
      "text/html": [
       "<table><tr><td><img src='Wign2.png'></td><td><img src='Wig2.png'></td></tr></table>"
      ],
      "text/plain": [
       "<IPython.core.display.HTML object>"
      ]
     },
     "metadata": {},
     "output_type": "display_data"
    }
   ],
   "source": [
    "display(HTML(\"<table><tr><td><img src='Wign2.png'></td><td><img src='Wig2.png'></td></tr></table>\"))"
   ]
  },
  {
   "cell_type": "markdown",
   "metadata": {},
   "source": [
    "# Часть 2 \n",
    "# L=7\n",
    "\n",
    "$H=-J_1\\sum_{j=1}^{L-1}c^{\\dagger}_j c_{j+1}-J_2\\sum_{j=1}^{L-1}a^{\\dagger}_j a_{j+1}+h.c.$\n",
    "\n",
    "$+U\\sum_{j=1}^{L}c^{\\dagger}_{j}c_j a^{\\dagger}_{j}a_j$\n",
    "\n",
    "$+V\\sum_{j=2}^{L}a^{\\dagger}_{j}a_j c^{\\dagger}_{j-1}c_{j-1}+ \n",
    " V\\sum_{j=1}^{L-1}a^{\\dagger}_{j}a_j c^{\\dagger}_{j+1}c_{j+1}+H_{bias}$\n",
    " \n",
    "$H_{bias}=bias\\sum_{l=1}^{L}\\left(\\frac{l}{L}\\right)c^{\\dagger}_{l}c_{l}$ \n",
    "\n",
    "\n",
    "    J1=1.0   J2=0.2    U= 1.0    bias=0 V=0 \n",
    "\n",
    "# слева: coherence length vs energies\n",
    "# справа: обьем отриц. части W (negativity) vs energies\n"
   ]
  },
  {
   "cell_type": "code",
   "execution_count": 15,
   "metadata": {},
   "outputs": [
    {
     "data": {
      "text/html": [
       "<table><tr><td><img src='coh.png'></td><td><img src='wig.png'></td></tr></table>"
      ],
      "text/plain": [
       "<IPython.core.display.HTML object>"
      ]
     },
     "metadata": {},
     "output_type": "display_data"
    }
   ],
   "source": [
    "display(HTML(\"<table><tr><td><img src='coh.png'></td><td><img src='wig.png'></td></tr></table>\"))"
   ]
  },
  {
   "cell_type": "markdown",
   "metadata": {},
   "source": [
    "# вид W для энергий $E=E_{ground}$ и $E\\approx 0$  "
   ]
  },
  {
   "cell_type": "code",
   "execution_count": 16,
   "metadata": {},
   "outputs": [
    {
     "data": {
      "text/html": [
       "<table><tr><td><img src='ground.png'></td><td><img src='zero.png'></td></tr></table>"
      ],
      "text/plain": [
       "<IPython.core.display.HTML object>"
      ]
     },
     "metadata": {},
     "output_type": "display_data"
    }
   ],
   "source": [
    "display(HTML(\"<table><tr><td><img src='ground.png'></td><td><img src='zero.png'></td></tr></table>\"))"
   ]
  },
  {
   "cell_type": "markdown",
   "metadata": {},
   "source": [
    "    слева:  J1=1.0   J2=0.2    U= 1.0    bias=0  V=0.5\n",
    "    справа:  J1=1.0   J2=0.2    U= 1.0    bias=0.1  V=0.5\n"
   ]
  },
  {
   "cell_type": "code",
   "execution_count": 35,
   "metadata": {},
   "outputs": [
    {
     "data": {
      "text/html": [
       "<table><tr><td><img src='V05bias0.png'></td><td><img src='V05bias01.png'></td></tr></table>"
      ],
      "text/plain": [
       "<IPython.core.display.HTML object>"
      ]
     },
     "metadata": {},
     "output_type": "display_data"
    }
   ],
   "source": [
    " display(HTML(\"<table><tr><td><img src='V05bias0.png'></td><td><img src='V05bias01.png'></td></tr></table>\")) "
   ]
  },
  {
   "cell_type": "markdown",
   "metadata": {},
   "source": [
    "# Часть 3\n",
    "\n",
    "# L=8 \n",
    "\n",
    "    V=bias=0\n",
    "\n",
    "# справа negativity для нескольких энергий "
   ]
  },
  {
   "cell_type": "code",
   "execution_count": 34,
   "metadata": {},
   "outputs": [
    {
     "data": {
      "text/html": [
       "<table><tr><td><img src='L10length.png'></td><td><img src='L=8.png'></td></tr></table>"
      ],
      "text/plain": [
       "<IPython.core.display.HTML object>"
      ]
     },
     "metadata": {},
     "output_type": "display_data"
    }
   ],
   "source": [
    "display(HTML(\"<table><tr><td><img src='L10length.png'></td><td><img src='L=8.png'></td></tr></table>\"))"
   ]
  },
  {
   "cell_type": "code",
   "execution_count": null,
   "metadata": {},
   "outputs": [],
   "source": []
  }
 ],
 "metadata": {
  "kernelspec": {
   "display_name": "Python 3",
   "language": "python",
   "name": "python3"
  },
  "language_info": {
   "codemirror_mode": {
    "name": "ipython",
    "version": 3
   },
   "file_extension": ".py",
   "mimetype": "text/x-python",
   "name": "python",
   "nbconvert_exporter": "python",
   "pygments_lexer": "ipython3",
   "version": "3.7.1"
  }
 },
 "nbformat": 4,
 "nbformat_minor": 2
}
